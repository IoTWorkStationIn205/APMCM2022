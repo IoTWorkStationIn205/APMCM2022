{
 "cells": [
  {
   "cell_type": "code",
   "execution_count": 1,
   "metadata": {
    "collapsed": true,
    "pycharm": {
     "name": "#%%\n"
    }
   },
   "outputs": [],
   "source": [
    "import numpy as np\n",
    "import scipy.stats as stat\n",
    "import pandas as pd\n",
    "import warnings\n",
    "\n",
    "warnings.filterwarnings('ignore')"
   ]
  },
  {
   "cell_type": "code",
   "execution_count": 2,
   "outputs": [
    {
     "data": {
      "text/plain": "              dt     global   tropical      south      north\n0     1900-01-01  11.555170  22.977459  19.990000   2.953946\n1     1900-02-01  13.583870  24.118351  20.416714   5.769482\n2     1900-03-01  16.425790  25.646919  19.448714   9.955393\n3     1900-04-01  19.520930  26.158541  17.071000  15.441607\n4     1900-05-01  22.025110  26.093838  15.254000  20.183232\n...          ...        ...        ...        ...        ...\n1360  2013-05-01  23.405960  26.979703  15.773429  21.998804\n1361  2013-06-01  24.341760  25.659054  14.429286  24.710464\n1362  2013-07-01  24.951320  24.746486  13.986286  26.457286\n1363  2013-08-01  24.770230  24.867730  14.411571  26.000643\n1364  2013-09-01  19.456286  23.314000        NaN  17.913200\n\n[1365 rows x 5 columns]",
      "text/html": "<div>\n<style scoped>\n    .dataframe tbody tr th:only-of-type {\n        vertical-align: middle;\n    }\n\n    .dataframe tbody tr th {\n        vertical-align: top;\n    }\n\n    .dataframe thead th {\n        text-align: right;\n    }\n</style>\n<table border=\"1\" class=\"dataframe\">\n  <thead>\n    <tr style=\"text-align: right;\">\n      <th></th>\n      <th>dt</th>\n      <th>global</th>\n      <th>tropical</th>\n      <th>south</th>\n      <th>north</th>\n    </tr>\n  </thead>\n  <tbody>\n    <tr>\n      <th>0</th>\n      <td>1900-01-01</td>\n      <td>11.555170</td>\n      <td>22.977459</td>\n      <td>19.990000</td>\n      <td>2.953946</td>\n    </tr>\n    <tr>\n      <th>1</th>\n      <td>1900-02-01</td>\n      <td>13.583870</td>\n      <td>24.118351</td>\n      <td>20.416714</td>\n      <td>5.769482</td>\n    </tr>\n    <tr>\n      <th>2</th>\n      <td>1900-03-01</td>\n      <td>16.425790</td>\n      <td>25.646919</td>\n      <td>19.448714</td>\n      <td>9.955393</td>\n    </tr>\n    <tr>\n      <th>3</th>\n      <td>1900-04-01</td>\n      <td>19.520930</td>\n      <td>26.158541</td>\n      <td>17.071000</td>\n      <td>15.441607</td>\n    </tr>\n    <tr>\n      <th>4</th>\n      <td>1900-05-01</td>\n      <td>22.025110</td>\n      <td>26.093838</td>\n      <td>15.254000</td>\n      <td>20.183232</td>\n    </tr>\n    <tr>\n      <th>...</th>\n      <td>...</td>\n      <td>...</td>\n      <td>...</td>\n      <td>...</td>\n      <td>...</td>\n    </tr>\n    <tr>\n      <th>1360</th>\n      <td>2013-05-01</td>\n      <td>23.405960</td>\n      <td>26.979703</td>\n      <td>15.773429</td>\n      <td>21.998804</td>\n    </tr>\n    <tr>\n      <th>1361</th>\n      <td>2013-06-01</td>\n      <td>24.341760</td>\n      <td>25.659054</td>\n      <td>14.429286</td>\n      <td>24.710464</td>\n    </tr>\n    <tr>\n      <th>1362</th>\n      <td>2013-07-01</td>\n      <td>24.951320</td>\n      <td>24.746486</td>\n      <td>13.986286</td>\n      <td>26.457286</td>\n    </tr>\n    <tr>\n      <th>1363</th>\n      <td>2013-08-01</td>\n      <td>24.770230</td>\n      <td>24.867730</td>\n      <td>14.411571</td>\n      <td>26.000643</td>\n    </tr>\n    <tr>\n      <th>1364</th>\n      <td>2013-09-01</td>\n      <td>19.456286</td>\n      <td>23.314000</td>\n      <td>NaN</td>\n      <td>17.913200</td>\n    </tr>\n  </tbody>\n</table>\n<p>1365 rows × 5 columns</p>\n</div>"
     },
     "execution_count": 2,
     "metadata": {},
     "output_type": "execute_result"
    }
   ],
   "source": [
    "data = pd.read_csv('../../data/summary/site_month.csv')\n",
    "data"
   ],
   "metadata": {
    "collapsed": false,
    "pycharm": {
     "name": "#%%\n"
    }
   }
  },
  {
   "cell_type": "code",
   "execution_count": 11,
   "outputs": [
    {
     "data": {
      "text/plain": "                stat         p\n1904-01-01 -2.207756  0.028216\n1914-01-01 -1.841504  0.066792\n1924-01-01 -1.605102  0.109797\n1934-01-01 -1.376537  0.169949\n1944-01-01 -1.265140  0.207059\n1954-01-01 -1.291485  0.197789\n1964-01-01 -1.362050  0.174470\n1974-01-01 -1.183818  0.237666\n1984-01-01 -0.875372  0.382254\n1994-01-01 -0.204696  0.837985",
      "text/html": "<div>\n<style scoped>\n    .dataframe tbody tr th:only-of-type {\n        vertical-align: middle;\n    }\n\n    .dataframe tbody tr th {\n        vertical-align: top;\n    }\n\n    .dataframe thead th {\n        text-align: right;\n    }\n</style>\n<table border=\"1\" class=\"dataframe\">\n  <thead>\n    <tr style=\"text-align: right;\">\n      <th></th>\n      <th>stat</th>\n      <th>p</th>\n    </tr>\n  </thead>\n  <tbody>\n    <tr>\n      <th>1904-01-01</th>\n      <td>-2.207756</td>\n      <td>0.028216</td>\n    </tr>\n    <tr>\n      <th>1914-01-01</th>\n      <td>-1.841504</td>\n      <td>0.066792</td>\n    </tr>\n    <tr>\n      <th>1924-01-01</th>\n      <td>-1.605102</td>\n      <td>0.109797</td>\n    </tr>\n    <tr>\n      <th>1934-01-01</th>\n      <td>-1.376537</td>\n      <td>0.169949</td>\n    </tr>\n    <tr>\n      <th>1944-01-01</th>\n      <td>-1.265140</td>\n      <td>0.207059</td>\n    </tr>\n    <tr>\n      <th>1954-01-01</th>\n      <td>-1.291485</td>\n      <td>0.197789</td>\n    </tr>\n    <tr>\n      <th>1964-01-01</th>\n      <td>-1.362050</td>\n      <td>0.174470</td>\n    </tr>\n    <tr>\n      <th>1974-01-01</th>\n      <td>-1.183818</td>\n      <td>0.237666</td>\n    </tr>\n    <tr>\n      <th>1984-01-01</th>\n      <td>-0.875372</td>\n      <td>0.382254</td>\n    </tr>\n    <tr>\n      <th>1994-01-01</th>\n      <td>-0.204696</td>\n      <td>0.837985</td>\n    </tr>\n  </tbody>\n</table>\n</div>"
     },
     "execution_count": 11,
     "metadata": {},
     "output_type": "execute_result"
    }
   ],
   "source": [
    "ttest = pd.DataFrame()\n",
    "target = data.iloc[-120:]['global']\n",
    "s = []\n",
    "p = []\n",
    "idx = []\n",
    "\n",
    "for i in range(48, 1365, 120):\n",
    "    tem1, tem2 = stat.ttest_ind(\n",
    "        data.iloc[i: 120 + i]['global'], target, alternative='two-sided'\n",
    "    )\n",
    "    idx.append(data.dt[i])\n",
    "    s.append(tem1)\n",
    "    p.append(tem2)\n",
    "\n",
    "ttest.index = idx\n",
    "ttest['stat'] = s\n",
    "ttest['p'] = p\n",
    "\n",
    "ttest = ttest[:-1]\n",
    "ttest"
   ],
   "metadata": {
    "collapsed": false,
    "pycharm": {
     "name": "#%%\n"
    }
   }
  },
  {
   "cell_type": "code",
   "execution_count": 4,
   "outputs": [
    {
     "data": {
      "text/plain": "0.06868147471668457"
     },
     "execution_count": 4,
     "metadata": {},
     "output_type": "execute_result"
    }
   ],
   "source": [
    "stat.ttest_ind(\n",
    "        data.iloc[3: 13]['global'], target, alternative='two-sided'\n",
    "    )[0]"
   ],
   "metadata": {
    "collapsed": false,
    "pycharm": {
     "name": "#%%\n"
    }
   }
  },
  {
   "cell_type": "code",
   "execution_count": 12,
   "outputs": [],
   "source": [
    "ttest.to_csv('../../data/summary/ttest.csv')"
   ],
   "metadata": {
    "collapsed": false,
    "pycharm": {
     "name": "#%%\n"
    }
   }
  },
  {
   "cell_type": "code",
   "execution_count": 13,
   "outputs": [
    {
     "data": {
      "text/plain": "True"
     },
     "execution_count": 13,
     "metadata": {},
     "output_type": "execute_result"
    }
   ],
   "source": [
    "from neuralprophet import NeuralProphet\n",
    "import joblib\n",
    "\n",
    "npt: NeuralProphet = joblib.load('../../models/model1/np.model')\n",
    "npt.fitted"
   ],
   "metadata": {
    "collapsed": false,
    "pycharm": {
     "name": "#%%\n"
    }
   }
  },
  {
   "cell_type": "code",
   "execution_count": 20,
   "outputs": [
    {
     "name": "stderr",
     "output_type": "stream",
     "text": [
      "INFO - (NP.df_utils._infer_frequency) - Major frequency MS corresponds to 91.575% of the data.\n",
      "INFO - (NP.df_utils._infer_frequency) - Defined frequency is equal to major frequency - MS\n",
      "INFO - (NP.df_utils._infer_frequency) - Major frequency MS corresponds to 91.581% of the data.\n",
      "INFO - (NP.df_utils._infer_frequency) - Defined frequency is equal to major frequency - MS\n"
     ]
    },
    {
     "data": {
      "text/plain": "             ds          y      yhat1 residual1   ar1      trend season_yearly\n0    1900-01-01  11.555170       None       NaN  None       None          None\n1    1900-02-01  13.583870       None       NaN  None       None          None\n2    1900-03-01  16.425790       None       NaN  None       None          None\n3    1900-04-01  19.520930       None       NaN  None       None          None\n4    1900-05-01  22.025110       None       NaN  None       None          None\n...         ...        ...        ...       ...   ...        ...           ...\n1360 2013-05-01  23.405960  23.146599 -0.259361   0.0  19.794018      3.352582\n1361 2013-06-01  24.341760  24.518566  0.176806   0.0  19.795662      4.722902\n1362 2013-07-01  24.951320   25.01931   0.06799   0.0  19.797256      5.222052\n1363 2013-08-01  24.770230  24.755905 -0.014325   0.0  19.798903      4.957003\n1364 2013-09-01  19.456286  23.088261  3.631975   0.0  19.800549      3.287711\n\n[1365 rows x 7 columns]",
      "text/html": "<div>\n<style scoped>\n    .dataframe tbody tr th:only-of-type {\n        vertical-align: middle;\n    }\n\n    .dataframe tbody tr th {\n        vertical-align: top;\n    }\n\n    .dataframe thead th {\n        text-align: right;\n    }\n</style>\n<table border=\"1\" class=\"dataframe\">\n  <thead>\n    <tr style=\"text-align: right;\">\n      <th></th>\n      <th>ds</th>\n      <th>y</th>\n      <th>yhat1</th>\n      <th>residual1</th>\n      <th>ar1</th>\n      <th>trend</th>\n      <th>season_yearly</th>\n    </tr>\n  </thead>\n  <tbody>\n    <tr>\n      <th>0</th>\n      <td>1900-01-01</td>\n      <td>11.555170</td>\n      <td>None</td>\n      <td>NaN</td>\n      <td>None</td>\n      <td>None</td>\n      <td>None</td>\n    </tr>\n    <tr>\n      <th>1</th>\n      <td>1900-02-01</td>\n      <td>13.583870</td>\n      <td>None</td>\n      <td>NaN</td>\n      <td>None</td>\n      <td>None</td>\n      <td>None</td>\n    </tr>\n    <tr>\n      <th>2</th>\n      <td>1900-03-01</td>\n      <td>16.425790</td>\n      <td>None</td>\n      <td>NaN</td>\n      <td>None</td>\n      <td>None</td>\n      <td>None</td>\n    </tr>\n    <tr>\n      <th>3</th>\n      <td>1900-04-01</td>\n      <td>19.520930</td>\n      <td>None</td>\n      <td>NaN</td>\n      <td>None</td>\n      <td>None</td>\n      <td>None</td>\n    </tr>\n    <tr>\n      <th>4</th>\n      <td>1900-05-01</td>\n      <td>22.025110</td>\n      <td>None</td>\n      <td>NaN</td>\n      <td>None</td>\n      <td>None</td>\n      <td>None</td>\n    </tr>\n    <tr>\n      <th>...</th>\n      <td>...</td>\n      <td>...</td>\n      <td>...</td>\n      <td>...</td>\n      <td>...</td>\n      <td>...</td>\n      <td>...</td>\n    </tr>\n    <tr>\n      <th>1360</th>\n      <td>2013-05-01</td>\n      <td>23.405960</td>\n      <td>23.146599</td>\n      <td>-0.259361</td>\n      <td>0.0</td>\n      <td>19.794018</td>\n      <td>3.352582</td>\n    </tr>\n    <tr>\n      <th>1361</th>\n      <td>2013-06-01</td>\n      <td>24.341760</td>\n      <td>24.518566</td>\n      <td>0.176806</td>\n      <td>0.0</td>\n      <td>19.795662</td>\n      <td>4.722902</td>\n    </tr>\n    <tr>\n      <th>1362</th>\n      <td>2013-07-01</td>\n      <td>24.951320</td>\n      <td>25.01931</td>\n      <td>0.06799</td>\n      <td>0.0</td>\n      <td>19.797256</td>\n      <td>5.222052</td>\n    </tr>\n    <tr>\n      <th>1363</th>\n      <td>2013-08-01</td>\n      <td>24.770230</td>\n      <td>24.755905</td>\n      <td>-0.014325</td>\n      <td>0.0</td>\n      <td>19.798903</td>\n      <td>4.957003</td>\n    </tr>\n    <tr>\n      <th>1364</th>\n      <td>2013-09-01</td>\n      <td>19.456286</td>\n      <td>23.088261</td>\n      <td>3.631975</td>\n      <td>0.0</td>\n      <td>19.800549</td>\n      <td>3.287711</td>\n    </tr>\n  </tbody>\n</table>\n<p>1365 rows × 7 columns</p>\n</div>"
     },
     "execution_count": 20,
     "metadata": {},
     "output_type": "execute_result"
    }
   ],
   "source": [
    "X = data[['dt', 'global']]\n",
    "X.columns = ['ds', 'y']\n",
    "y = npt.predict(X)\n",
    "y"
   ],
   "metadata": {
    "collapsed": false,
    "pycharm": {
     "name": "#%%\n"
    }
   }
  },
  {
   "cell_type": "code",
   "execution_count": 21,
   "outputs": [],
   "source": [
    "y[['ds', 'trend', 'season_yearly']].to_csv('../../data/summary/period.csv')"
   ],
   "metadata": {
    "collapsed": false,
    "pycharm": {
     "name": "#%%\n"
    }
   }
  },
  {
   "cell_type": "code",
   "execution_count": null,
   "outputs": [],
   "source": [],
   "metadata": {
    "collapsed": false,
    "pycharm": {
     "name": "#%%\n"
    }
   }
  }
 ],
 "metadata": {
  "kernelspec": {
   "display_name": "Python 3",
   "language": "python",
   "name": "python3"
  },
  "language_info": {
   "codemirror_mode": {
    "name": "ipython",
    "version": 2
   },
   "file_extension": ".py",
   "mimetype": "text/x-python",
   "name": "python",
   "nbconvert_exporter": "python",
   "pygments_lexer": "ipython2",
   "version": "2.7.6"
  }
 },
 "nbformat": 4,
 "nbformat_minor": 0
}